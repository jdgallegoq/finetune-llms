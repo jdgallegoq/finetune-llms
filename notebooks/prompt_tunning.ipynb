{
 "cells": [
  {
   "cell_type": "markdown",
   "id": "ef50c6e3-8651-4249-b50e-5394f5061097",
   "metadata": {},
   "source": [
    "# Prompt tunning"
   ]
  },
  {
   "cell_type": "code",
   "execution_count": 6,
   "id": "94e2b5cd-4624-44c8-acbd-98194742803d",
   "metadata": {},
   "outputs": [],
   "source": [
    "import os\n",
    "from transformers import AutoModelForCausalLM, AutoTokenizer, set_seed\n",
    "from peft import get_peft_config, get_peft_model, PromptTuningInit, PromptTuningConfig, TaskType, PeftType\n",
    "\n",
    "import torch\n",
    "from datasets import load_dataset\n",
    "from torch.utils.data import DataLoader\n",
    "from transformers import default_data_collator, get_linear_schedule_with_warmup\n",
    "from tqdm import tqdm\n",
    "import wandb"
   ]
  },
  {
   "cell_type": "code",
   "execution_count": null,
   "id": "41aa6b40-80d4-4618-80e0-4c955995f96d",
   "metadata": {},
   "outputs": [],
   "source": [
    "# define initialize parameters\n",
    "wandb.init(project=\"prompt_learning_methods\", name=\"promp_tunning\")\n",
    "seed = 0\n",
    "device= \"cuda\"\n",
    "model_name_or_path = \"\""
   ]
  }
 ],
 "metadata": {
  "kernelspec": {
   "display_name": "Python 3 (ipykernel)",
   "language": "python",
   "name": "python3"
  },
  "language_info": {
   "codemirror_mode": {
    "name": "ipython",
    "version": 3
   },
   "file_extension": ".py",
   "mimetype": "text/x-python",
   "name": "python",
   "nbconvert_exporter": "python",
   "pygments_lexer": "ipython3",
   "version": "3.10.12"
  }
 },
 "nbformat": 4,
 "nbformat_minor": 5
}
